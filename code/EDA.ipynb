{
 "cells": [
  {
   "cell_type": "code",
   "execution_count": 21,
   "metadata": {
    "id": "Nf3L-vvJCWia"
   },
   "outputs": [],
   "source": [
    "import pandas as pd\n",
    "from sklearn.feature_extraction.text import CountVectorizer\n",
    "import altair as alt\n",
    "from wordcloud import WordCloud\n",
    "from wordcloud import ImageColorGenerator\n",
    "import matplotlib.pyplot as plt"
   ]
  },
  {
   "cell_type": "markdown",
   "metadata": {},
   "source": [
    "## Load data"
   ]
  },
  {
   "cell_type": "code",
   "execution_count": 22,
   "metadata": {
    "id": "eh_OD-H4ChKx"
   },
   "outputs": [],
   "source": [
    "\n",
    "df = pd.read_csv('../data/BGL_cleaned.csv')"
   ]
  },
  {
   "cell_type": "code",
   "execution_count": 23,
   "metadata": {
    "colab": {
     "base_uri": "https://localhost:8080/",
     "height": 204
    },
    "id": "GBVu4HSTD9xK",
    "outputId": "34466f6a-1d73-4a7f-f06c-e9315869f29d"
   },
   "outputs": [
    {
     "data": {
      "text/html": [
       "<div>\n",
       "<style scoped>\n",
       "    .dataframe tbody tr th:only-of-type {\n",
       "        vertical-align: middle;\n",
       "    }\n",
       "\n",
       "    .dataframe tbody tr th {\n",
       "        vertical-align: top;\n",
       "    }\n",
       "\n",
       "    .dataframe thead th {\n",
       "        text-align: right;\n",
       "    }\n",
       "</style>\n",
       "<table border=\"1\" class=\"dataframe\">\n",
       "  <thead>\n",
       "    <tr style=\"text-align: right;\">\n",
       "      <th></th>\n",
       "      <th>id</th>\n",
       "      <th>time</th>\n",
       "      <th>unknown1</th>\n",
       "      <th>exact_time</th>\n",
       "      <th>unknown2</th>\n",
       "      <th>info</th>\n",
       "      <th>label</th>\n",
       "    </tr>\n",
       "  </thead>\n",
       "  <tbody>\n",
       "    <tr>\n",
       "      <th>0</th>\n",
       "      <td>1117838570</td>\n",
       "      <td>2005.06.03</td>\n",
       "      <td>R02-M1-N0-C:J12-U11</td>\n",
       "      <td>2005-06-03-15.42.50.363779</td>\n",
       "      <td>R02-M1-N0-C:J12-U11</td>\n",
       "      <td>ras kernel info instruction cache parity error...</td>\n",
       "      <td>Normal</td>\n",
       "    </tr>\n",
       "    <tr>\n",
       "      <th>1</th>\n",
       "      <td>1117838570</td>\n",
       "      <td>2005.06.03</td>\n",
       "      <td>R02-M1-N0-C:J12-U11</td>\n",
       "      <td>2005-06-03-15.42.50.527847</td>\n",
       "      <td>R02-M1-N0-C:J12-U11</td>\n",
       "      <td>ras kernel info instruction cache parity error...</td>\n",
       "      <td>Normal</td>\n",
       "    </tr>\n",
       "    <tr>\n",
       "      <th>2</th>\n",
       "      <td>1117838570</td>\n",
       "      <td>2005.06.03</td>\n",
       "      <td>R02-M1-N0-C:J12-U11</td>\n",
       "      <td>2005-06-03-15.42.50.675872</td>\n",
       "      <td>R02-M1-N0-C:J12-U11</td>\n",
       "      <td>ras kernel info instruction cache parity error...</td>\n",
       "      <td>Normal</td>\n",
       "    </tr>\n",
       "    <tr>\n",
       "      <th>3</th>\n",
       "      <td>1117838570</td>\n",
       "      <td>2005.06.03</td>\n",
       "      <td>R02-M1-N0-C:J12-U11</td>\n",
       "      <td>2005-06-03-15.42.50.823719</td>\n",
       "      <td>R02-M1-N0-C:J12-U11</td>\n",
       "      <td>ras kernel info instruction cache parity error...</td>\n",
       "      <td>Normal</td>\n",
       "    </tr>\n",
       "    <tr>\n",
       "      <th>4</th>\n",
       "      <td>1117838570</td>\n",
       "      <td>2005.06.03</td>\n",
       "      <td>R02-M1-N0-C:J12-U11</td>\n",
       "      <td>2005-06-03-15.42.50.982731</td>\n",
       "      <td>R02-M1-N0-C:J12-U11</td>\n",
       "      <td>ras kernel info instruction cache parity error...</td>\n",
       "      <td>Normal</td>\n",
       "    </tr>\n",
       "  </tbody>\n",
       "</table>\n",
       "</div>"
      ],
      "text/plain": [
       "           id        time             unknown1                  exact_time  \\\n",
       "0  1117838570  2005.06.03  R02-M1-N0-C:J12-U11  2005-06-03-15.42.50.363779   \n",
       "1  1117838570  2005.06.03  R02-M1-N0-C:J12-U11  2005-06-03-15.42.50.527847   \n",
       "2  1117838570  2005.06.03  R02-M1-N0-C:J12-U11  2005-06-03-15.42.50.675872   \n",
       "3  1117838570  2005.06.03  R02-M1-N0-C:J12-U11  2005-06-03-15.42.50.823719   \n",
       "4  1117838570  2005.06.03  R02-M1-N0-C:J12-U11  2005-06-03-15.42.50.982731   \n",
       "\n",
       "              unknown2                                               info  \\\n",
       "0  R02-M1-N0-C:J12-U11  ras kernel info instruction cache parity error...   \n",
       "1  R02-M1-N0-C:J12-U11  ras kernel info instruction cache parity error...   \n",
       "2  R02-M1-N0-C:J12-U11  ras kernel info instruction cache parity error...   \n",
       "3  R02-M1-N0-C:J12-U11  ras kernel info instruction cache parity error...   \n",
       "4  R02-M1-N0-C:J12-U11  ras kernel info instruction cache parity error...   \n",
       "\n",
       "    label  \n",
       "0  Normal  \n",
       "1  Normal  \n",
       "2  Normal  \n",
       "3  Normal  \n",
       "4  Normal  "
      ]
     },
     "execution_count": 23,
     "metadata": {},
     "output_type": "execute_result"
    }
   ],
   "source": [
    "df.head()"
   ]
  },
  {
   "cell_type": "code",
   "execution_count": 24,
   "metadata": {},
   "outputs": [
    {
     "name": "stdout",
     "output_type": "stream",
     "text": [
      "<class 'pandas.core.frame.DataFrame'>\n",
      "RangeIndex: 4747963 entries, 0 to 4747962\n",
      "Data columns (total 7 columns):\n",
      " #   Column      Dtype \n",
      "---  ------      ----- \n",
      " 0   id          int64 \n",
      " 1   time        object\n",
      " 2   unknown1    object\n",
      " 3   exact_time  object\n",
      " 4   unknown2    object\n",
      " 5   info        object\n",
      " 6   label       object\n",
      "dtypes: int64(1), object(6)\n",
      "memory usage: 253.6+ MB\n"
     ]
    }
   ],
   "source": [
    "df.info()"
   ]
  },
  {
   "cell_type": "markdown",
   "metadata": {},
   "source": [
    "## Class proportion"
   ]
  },
  {
   "cell_type": "code",
   "execution_count": 25,
   "metadata": {},
   "outputs": [
    {
     "data": {
      "text/plain": [
       "Normal     0.926609\n",
       "Anomaly    0.073391\n",
       "Name: label, dtype: float64"
      ]
     },
     "execution_count": 25,
     "metadata": {},
     "output_type": "execute_result"
    }
   ],
   "source": [
    "df[\"label\"].value_counts(normalize=True)"
   ]
  },
  {
   "cell_type": "code",
   "execution_count": 26,
   "metadata": {},
   "outputs": [
    {
     "data": {
      "text/html": [
       "\n",
       "<div id=\"altair-viz-d291301d835e44789b46ad5b603f01a7\"></div>\n",
       "<script type=\"text/javascript\">\n",
       "  var VEGA_DEBUG = (typeof VEGA_DEBUG == \"undefined\") ? {} : VEGA_DEBUG;\n",
       "  (function(spec, embedOpt){\n",
       "    let outputDiv = document.currentScript.previousElementSibling;\n",
       "    if (outputDiv.id !== \"altair-viz-d291301d835e44789b46ad5b603f01a7\") {\n",
       "      outputDiv = document.getElementById(\"altair-viz-d291301d835e44789b46ad5b603f01a7\");\n",
       "    }\n",
       "    const paths = {\n",
       "      \"vega\": \"https://cdn.jsdelivr.net/npm//vega@5?noext\",\n",
       "      \"vega-lib\": \"https://cdn.jsdelivr.net/npm//vega-lib?noext\",\n",
       "      \"vega-lite\": \"https://cdn.jsdelivr.net/npm//vega-lite@4.17.0?noext\",\n",
       "      \"vega-embed\": \"https://cdn.jsdelivr.net/npm//vega-embed@6?noext\",\n",
       "    };\n",
       "\n",
       "    function maybeLoadScript(lib, version) {\n",
       "      var key = `${lib.replace(\"-\", \"\")}_version`;\n",
       "      return (VEGA_DEBUG[key] == version) ?\n",
       "        Promise.resolve(paths[lib]) :\n",
       "        new Promise(function(resolve, reject) {\n",
       "          var s = document.createElement('script');\n",
       "          document.getElementsByTagName(\"head\")[0].appendChild(s);\n",
       "          s.async = true;\n",
       "          s.onload = () => {\n",
       "            VEGA_DEBUG[key] = version;\n",
       "            return resolve(paths[lib]);\n",
       "          };\n",
       "          s.onerror = () => reject(`Error loading script: ${paths[lib]}`);\n",
       "          s.src = paths[lib];\n",
       "        });\n",
       "    }\n",
       "\n",
       "    function showError(err) {\n",
       "      outputDiv.innerHTML = `<div class=\"error\" style=\"color:red;\">${err}</div>`;\n",
       "      throw err;\n",
       "    }\n",
       "\n",
       "    function displayChart(vegaEmbed) {\n",
       "      vegaEmbed(outputDiv, spec, embedOpt)\n",
       "        .catch(err => showError(`Javascript Error: ${err.message}<br>This usually means there's a typo in your chart specification. See the javascript console for the full traceback.`));\n",
       "    }\n",
       "\n",
       "    if(typeof define === \"function\" && define.amd) {\n",
       "      requirejs.config({paths});\n",
       "      require([\"vega-embed\"], displayChart, err => showError(`Error loading script: ${err.message}`));\n",
       "    } else {\n",
       "      maybeLoadScript(\"vega\", \"5\")\n",
       "        .then(() => maybeLoadScript(\"vega-lite\", \"4.17.0\"))\n",
       "        .then(() => maybeLoadScript(\"vega-embed\", \"6\"))\n",
       "        .catch(showError)\n",
       "        .then(() => displayChart(vegaEmbed));\n",
       "    }\n",
       "  })({\"config\": {\"view\": {\"continuousWidth\": 400, \"continuousHeight\": 300}}, \"layer\": [{\"mark\": \"bar\", \"encoding\": {\"x\": {\"field\": \"count\", \"type\": \"quantitative\"}, \"y\": {\"field\": \"labels\", \"type\": \"ordinal\"}}}, {\"mark\": {\"type\": \"text\", \"align\": \"left\", \"baseline\": \"middle\", \"dx\": 3}, \"encoding\": {\"text\": {\"field\": \"count\", \"type\": \"quantitative\"}, \"x\": {\"field\": \"count\", \"type\": \"quantitative\"}, \"y\": {\"field\": \"labels\", \"type\": \"ordinal\"}}}], \"data\": {\"name\": \"data-7171a9f4699ca51e44ede684d46a3389\"}, \"height\": 200, \"$schema\": \"https://vega.github.io/schema/vega-lite/v4.17.0.json\", \"datasets\": {\"data-7171a9f4699ca51e44ede684d46a3389\": [{\"labels\": \"Normal\", \"count\": 4399503}, {\"labels\": \"Anomaly\", \"count\": 348460}]}}, {\"mode\": \"vega-lite\"});\n",
       "</script>"
      ],
      "text/plain": [
       "alt.LayerChart(...)"
      ]
     },
     "execution_count": 26,
     "metadata": {},
     "output_type": "execute_result"
    }
   ],
   "source": [
    "# count for each labels\n",
    "count = df['label'].value_counts().tolist()\n",
    "labels = columns=df['label'].unique()\n",
    "count_labels = pd.DataFrame({'labels': labels, 'count': count})\n",
    "\n",
    "# bar plot for each label\n",
    "bars = alt.Chart(count_labels).mark_bar().encode(\n",
    "    x='count:Q',\n",
    "    y=\"labels:O\"\n",
    ")\n",
    "\n",
    "text = bars.mark_text(\n",
    "    align='left',\n",
    "    baseline='middle',\n",
    "    dx=3  # Nudges text to right so it doesn't appear on top of the bar\n",
    ").encode(\n",
    "    text='count:Q'\n",
    ")\n",
    "\n",
    "(bars + text).properties(height=200)"
   ]
  },
  {
   "cell_type": "markdown",
   "metadata": {},
   "source": [
    "## Bag of Words (BOW)"
   ]
  },
  {
   "cell_type": "code",
   "execution_count": 27,
   "metadata": {
    "id": "RIN3oUzLqQhI"
   },
   "outputs": [],
   "source": [
    "vectorizer = CountVectorizer(max_features=200)\n",
    "X_counts = vectorizer.fit_transform(df['info'])"
   ]
  },
  {
   "cell_type": "code",
   "execution_count": 28,
   "metadata": {
    "colab": {
     "base_uri": "https://localhost:8080/",
     "height": 264
    },
    "id": "Zppu5jsY7a5g",
    "outputId": "2dbca5c8-be07-48a4-9cb8-32763be8de54"
   },
   "outputs": [],
   "source": [
    "# Extracting BOW features \n",
    "bow_df = pd.DataFrame(\n",
    "    X_counts.toarray(), columns=vectorizer.get_feature_names_out(), index=df[\"label\"]\n",
    ")"
   ]
  },
  {
   "cell_type": "code",
   "execution_count": null,
   "metadata": {
    "id": "7kic7MzL7bw_"
   },
   "outputs": [],
   "source": [
    "count_df = bow_df.reset_index().groupby('label').sum()\n",
    "count_df.head()"
   ]
  },
  {
   "cell_type": "code",
   "execution_count": null,
   "metadata": {
    "id": "YRCHoA7t-vmi"
   },
   "outputs": [],
   "source": [
    "plot_anomaly = count_df.T.reset_index().sort_values(\"Anomaly\", ascending=False).iloc[0:40,]\n",
    "plot_normal = count_df.T.reset_index().sort_values(\"Normal\", ascending=False).iloc[0:40,]\n",
    "\n",
    "a = alt.Chart(plot_anomaly).mark_bar().encode(\n",
    "    x=alt.X('index:N', sort='-y', title = 'key words'),\n",
    "    y= alt.Y('Anomaly:Q',scale=alt.Scale(domain=[0, 4500000]))\n",
    ").properties(width=600,height=300)\n",
    "n = alt.Chart(plot_normal).mark_bar().encode(\n",
    "    x=alt.X('index:N', sort='-y',title = 'key words'),\n",
    "    y= alt.Y('Normal:Q')\n",
    ").properties(width=600,height=300)\n",
    "\n",
    "a | n"
   ]
  },
  {
   "cell_type": "code",
   "execution_count": null,
   "metadata": {
    "id": "IoD4Q6fu--oJ"
   },
   "outputs": [],
   "source": [
    "anomaly = df[df['label'] == 'Anomaly']\n",
    "normal = df[df['label'] == 'Normal']"
   ]
  },
  {
   "cell_type": "code",
   "execution_count": null,
   "metadata": {
    "id": "aLRs99__I4rU"
   },
   "outputs": [],
   "source": [
    "fig, axes = plt.subplots(nrows=1, ncols=2, figsize=(16,15))\n",
    "text = \" \".join(str(i) for i in anomaly['info'])\n",
    "\n",
    "wordcloud = WordCloud(background_color=\"white\").generate(text)\n",
    "axes[0].imshow(wordcloud, interpolation='bilinear')\n",
    "axes[0].axis(\"off\")\n",
    "axes[0].set_title(\"Anomaly\")\n",
    "\n",
    "text = \" \".join(str(i) for i in normal['info'])\n",
    "wordcloud = WordCloud(background_color=\"white\").generate(text)\n",
    "axes[1].imshow(wordcloud, interpolation='bilinear')\n",
    "axes[1].axis(\"off\")\n",
    "axes[1].set_title(\"Normal\")\n",
    "fig.tight_layout()"
   ]
  },
  {
   "cell_type": "code",
   "execution_count": null,
   "metadata": {
    "id": "3G4PVVOII_PF"
   },
   "outputs": [],
   "source": []
  },
  {
   "cell_type": "code",
   "execution_count": null,
   "metadata": {},
   "outputs": [],
   "source": []
  }
 ],
 "metadata": {
  "colab": {
   "collapsed_sections": [],
   "name": "Modelling.ipynb",
   "provenance": []
  },
  "kernelspec": {
   "display_name": "Python 3 (ipykernel)",
   "language": "python",
   "name": "python3"
  },
  "language_info": {
   "codemirror_mode": {
    "name": "ipython",
    "version": 3
   },
   "file_extension": ".py",
   "mimetype": "text/x-python",
   "name": "python",
   "nbconvert_exporter": "python",
   "pygments_lexer": "ipython3",
   "version": "3.7.12"
  }
 },
 "nbformat": 4,
 "nbformat_minor": 4
}
