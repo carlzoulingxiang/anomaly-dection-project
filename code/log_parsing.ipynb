{
 "cells": [
  {
   "cell_type": "code",
   "execution_count": 1,
   "metadata": {
    "id": "cyXdEcWCxg3K"
   },
   "outputs": [],
   "source": [
    "import re,string\n",
    "import pandas as pd\n",
    "from textacy import preprocessing\n",
    "import nltk\n",
    "from nltk.corpus import stopwords \n",
    "from nltk.tokenize import word_tokenize "
   ]
  },
  {
   "cell_type": "markdown",
   "metadata": {},
   "source": [
    "# Reading log file"
   ]
  },
  {
   "cell_type": "code",
   "execution_count": 2,
   "metadata": {
    "id": "gpiLQsRnmvtS"
   },
   "outputs": [],
   "source": [
    "log_data  = open('../data/BGL.log', 'r')\n",
    "split_list = []\n",
    "\n",
    "for line in log_data:\n",
    "    thing1 = line.split(' ')\n",
    "    if thing1[0] == '-':\n",
    "        label = 'Normal'\n",
    "    else:\n",
    "        label = 'Anomaly'\n",
    "    id = thing1[1]\n",
    "    time = thing1[2]\n",
    "    unknown1 = thing1[3]\n",
    "    exact_time = thing1[4]\n",
    "    unknown2 = thing1[5]\n",
    "    info = thing1[6:]\n",
    "    split_list.append([id, time, unknown1, exact_time, unknown2, info, label])\n",
    "\n",
    "df = pd.DataFrame(split_list, columns=['id', 'time', 'unknown1', 'exact_time', 'unknown2', 'info', 'label'])\n"
   ]
  },
  {
   "cell_type": "markdown",
   "metadata": {},
   "source": [
    "# Data Pre-processing"
   ]
  },
  {
   "cell_type": "code",
   "execution_count": 3,
   "metadata": {
    "colab": {
     "base_uri": "https://localhost:8080/",
     "height": 164
    },
    "id": "fDZoLz4R3Rr_",
    "outputId": "0261f423-c934-431c-ddf1-60a0c95d7a9e"
   },
   "outputs": [],
   "source": [
    "# convert info from list to string\n",
    "df['info'] = df['info'].apply(lambda x: ' '.join(x).replace('\\n',\"\")).replace('|','')"
   ]
  },
  {
   "cell_type": "code",
   "execution_count": 4,
   "metadata": {},
   "outputs": [
    {
     "data": {
      "text/plain": [
       "RAS KERNEL FATAL data TLB error interrupt                                                                                                                                                     152734\n",
       "RAS KERNEL INFO 0 microseconds spent in the rbs signal handler during 0 calls. 0 microseconds was the maximum time for a single instance of a correctable ddr.                                135005\n",
       "RAS KERNEL INFO instruction cache parity error corrected                                                                                                                                      105924\n",
       "RAS MMCS ERROR idoproxydb hit ASSERT condition: ASSERT expression=0 Source file=idotransportmgr.cpp Source line=1043 Function=int IdoTransportMgr::SendPacket(IdoUdpMgr*, BglCtlPavTrace*)     84168\n",
       "RAS KERNEL INFO 1146800 double-hummer alignment exceptions                                                                                                                                     74091\n",
       "                                                                                                                                                                                               ...  \n",
       "RAS APP FATAL ciod: Error reading message prefix after VERSION_MESSAGE on CioStream socket to 172.16.96.116:55910: Link has been severed                                                           1\n",
       "RAS APP FATAL ciod: Error reading message prefix after VERSION_MESSAGE on CioStream socket to 172.16.96.116:55861: Link has been severed                                                           1\n",
       "RAS APP FATAL ciod: Error reading message prefix after VERSION_MESSAGE on CioStream socket to 172.16.96.116:55862: Link has been severed                                                           1\n",
       "RAS APP FATAL ciod: Error reading message prefix after VERSION_MESSAGE on CioStream socket to 172.16.96.116:55957: Link has been severed                                                           1\n",
       "RAS KERNEL INFO 130562590 double-hummer alignment exceptions                                                                                                                                       1\n",
       "Name: info, Length: 358964, dtype: int64"
      ]
     },
     "execution_count": 4,
     "metadata": {},
     "output_type": "execute_result"
    }
   ],
   "source": [
    "df['info'].value_counts()"
   ]
  },
  {
   "cell_type": "code",
   "execution_count": 5,
   "metadata": {
    "tags": []
   },
   "outputs": [],
   "source": [
    "def process_data(text):\n",
    "    # convert to lowercase\n",
    "    text = text.lower()\n",
    "    # remove mlp such as FF:F2:9F:15:7E:DF:00:0D:60:EA:81:20\n",
    "    text = re.sub(r'..\\:..\\:..\\:..\\:..\\:..\\:..\\:..\\:..\\:..\\:..\\:..', '', text)\n",
    "    # replace numbers\n",
    "    text = re.sub(r\"[^a-z ]\", \" \", text)\n",
    "    # remove punctuation \n",
    "    text = preprocessing.remove.punctuation(text)\n",
    "    # remove single word characters in text for ip adress \n",
    "    text = re.sub(r\"\\b[a-zA-Z]\\b\", \"\", text)\n",
    "    # normalize whitespace\n",
    "    text = re.sub( '\\s+', ' ', text)\n",
    "    # remove stopwords\n",
    "    # stopwords such like 'to', 'on', 'of', 'for'...\n",
    "    stop_words = set(stopwords.words('english'))\n",
    "    additional_words = ['mon','tue','wed', 'thu', 'fri', 'sat', 'sun',\n",
    "                       'san', 'feb', 'mar', 'apr', 'may', 'jun', 'jul',\n",
    "                        'aug', 'sep', 'oct', 'nov', 'dec', 'pdt'] # date time in text\n",
    "    for i in additional_words:\n",
    "        stop_words.add(i)\n",
    "    word_tokens = word_tokenize(text) \n",
    "\n",
    "    filtered_sentence = [w for w in word_tokens if not w in stop_words] \n",
    "    filtered_sentence = [] \n",
    "    for w in word_tokens: \n",
    "        if w not in stop_words: \n",
    "            filtered_sentence.append(w)\n",
    "    text = ' '.join([w for w in filtered_sentence])\n",
    "    \n",
    "    return(text)\n",
    "\n",
    "cleaned_info = []\n",
    "for i in df['info']:\n",
    "    cleaned_info.append(process_data(i))\n",
    "df['info'] = cleaned_info"
   ]
  },
  {
   "cell_type": "code",
   "execution_count": 7,
   "metadata": {},
   "outputs": [
    {
     "data": {
      "text/html": [
       "<div>\n",
       "<style scoped>\n",
       "    .dataframe tbody tr th:only-of-type {\n",
       "        vertical-align: middle;\n",
       "    }\n",
       "\n",
       "    .dataframe tbody tr th {\n",
       "        vertical-align: top;\n",
       "    }\n",
       "\n",
       "    .dataframe thead th {\n",
       "        text-align: right;\n",
       "    }\n",
       "</style>\n",
       "<table border=\"1\" class=\"dataframe\">\n",
       "  <thead>\n",
       "    <tr style=\"text-align: right;\">\n",
       "      <th></th>\n",
       "      <th>id</th>\n",
       "      <th>time</th>\n",
       "      <th>unknown1</th>\n",
       "      <th>exact_time</th>\n",
       "      <th>unknown2</th>\n",
       "      <th>info</th>\n",
       "      <th>label</th>\n",
       "    </tr>\n",
       "  </thead>\n",
       "  <tbody>\n",
       "    <tr>\n",
       "      <th>0</th>\n",
       "      <td>1117838570</td>\n",
       "      <td>2005.06.03</td>\n",
       "      <td>R02-M1-N0-C:J12-U11</td>\n",
       "      <td>2005-06-03-15.42.50.363779</td>\n",
       "      <td>R02-M1-N0-C:J12-U11</td>\n",
       "      <td>ras kernel info instruction cache parity error...</td>\n",
       "      <td>Normal</td>\n",
       "    </tr>\n",
       "    <tr>\n",
       "      <th>1</th>\n",
       "      <td>1117838570</td>\n",
       "      <td>2005.06.03</td>\n",
       "      <td>R02-M1-N0-C:J12-U11</td>\n",
       "      <td>2005-06-03-15.42.50.527847</td>\n",
       "      <td>R02-M1-N0-C:J12-U11</td>\n",
       "      <td>ras kernel info instruction cache parity error...</td>\n",
       "      <td>Normal</td>\n",
       "    </tr>\n",
       "    <tr>\n",
       "      <th>2</th>\n",
       "      <td>1117838570</td>\n",
       "      <td>2005.06.03</td>\n",
       "      <td>R02-M1-N0-C:J12-U11</td>\n",
       "      <td>2005-06-03-15.42.50.675872</td>\n",
       "      <td>R02-M1-N0-C:J12-U11</td>\n",
       "      <td>ras kernel info instruction cache parity error...</td>\n",
       "      <td>Normal</td>\n",
       "    </tr>\n",
       "    <tr>\n",
       "      <th>3</th>\n",
       "      <td>1117838570</td>\n",
       "      <td>2005.06.03</td>\n",
       "      <td>R02-M1-N0-C:J12-U11</td>\n",
       "      <td>2005-06-03-15.42.50.823719</td>\n",
       "      <td>R02-M1-N0-C:J12-U11</td>\n",
       "      <td>ras kernel info instruction cache parity error...</td>\n",
       "      <td>Normal</td>\n",
       "    </tr>\n",
       "    <tr>\n",
       "      <th>4</th>\n",
       "      <td>1117838570</td>\n",
       "      <td>2005.06.03</td>\n",
       "      <td>R02-M1-N0-C:J12-U11</td>\n",
       "      <td>2005-06-03-15.42.50.982731</td>\n",
       "      <td>R02-M1-N0-C:J12-U11</td>\n",
       "      <td>ras kernel info instruction cache parity error...</td>\n",
       "      <td>Normal</td>\n",
       "    </tr>\n",
       "  </tbody>\n",
       "</table>\n",
       "</div>"
      ],
      "text/plain": [
       "           id        time             unknown1                  exact_time  \\\n",
       "0  1117838570  2005.06.03  R02-M1-N0-C:J12-U11  2005-06-03-15.42.50.363779   \n",
       "1  1117838570  2005.06.03  R02-M1-N0-C:J12-U11  2005-06-03-15.42.50.527847   \n",
       "2  1117838570  2005.06.03  R02-M1-N0-C:J12-U11  2005-06-03-15.42.50.675872   \n",
       "3  1117838570  2005.06.03  R02-M1-N0-C:J12-U11  2005-06-03-15.42.50.823719   \n",
       "4  1117838570  2005.06.03  R02-M1-N0-C:J12-U11  2005-06-03-15.42.50.982731   \n",
       "\n",
       "              unknown2                                               info  \\\n",
       "0  R02-M1-N0-C:J12-U11  ras kernel info instruction cache parity error...   \n",
       "1  R02-M1-N0-C:J12-U11  ras kernel info instruction cache parity error...   \n",
       "2  R02-M1-N0-C:J12-U11  ras kernel info instruction cache parity error...   \n",
       "3  R02-M1-N0-C:J12-U11  ras kernel info instruction cache parity error...   \n",
       "4  R02-M1-N0-C:J12-U11  ras kernel info instruction cache parity error...   \n",
       "\n",
       "    label  \n",
       "0  Normal  \n",
       "1  Normal  \n",
       "2  Normal  \n",
       "3  Normal  \n",
       "4  Normal  "
      ]
     },
     "execution_count": 7,
     "metadata": {},
     "output_type": "execute_result"
    }
   ],
   "source": [
    "df.head()"
   ]
  },
  {
   "cell_type": "code",
   "execution_count": 8,
   "metadata": {},
   "outputs": [],
   "source": [
    "# write dataframe to a csv file\n",
    "df.to_csv('../data/BGL_cleaned.csv',index=None)"
   ]
  },
  {
   "cell_type": "code",
   "execution_count": null,
   "metadata": {},
   "outputs": [],
   "source": []
  }
 ],
 "metadata": {
  "colab": {
   "name": "DATA586 Milestone 1.ipynb",
   "provenance": []
  },
  "kernelspec": {
   "display_name": "Python 3 (ipykernel)",
   "language": "python",
   "name": "python3"
  },
  "language_info": {
   "codemirror_mode": {
    "name": "ipython",
    "version": 3
   },
   "file_extension": ".py",
   "mimetype": "text/x-python",
   "name": "python",
   "nbconvert_exporter": "python",
   "pygments_lexer": "ipython3",
   "version": "3.8.11"
  }
 },
 "nbformat": 4,
 "nbformat_minor": 4
}
