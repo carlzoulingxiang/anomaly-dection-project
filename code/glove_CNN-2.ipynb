{
  "cells": [
    {
      "cell_type": "code",
      "execution_count": 33,
      "metadata": {
        "colab": {
          "base_uri": "https://localhost:8080/"
        },
        "id": "Pm6goCxMuTiP",
        "outputId": "ac7dc6f9-0194-4cd4-cbbb-48e586c30219"
      },
      "outputs": [
        {
          "name": "stdout",
          "output_type": "stream",
          "text": [
            "Requirement already satisfied: tensorflow_addons in /usr/local/lib/python3.7/dist-packages (0.16.1)\n",
            "Requirement already satisfied: typeguard>=2.7 in /usr/local/lib/python3.7/dist-packages (from tensorflow_addons) (2.7.1)\n"
          ]
        }
      ],
      "source": [
        "!pip install tensorflow_addons"
      ]
    },
    {
      "cell_type": "code",
      "execution_count": 34,
      "metadata": {
        "id": "1GqahaBq1p0R"
      },
      "outputs": [],
      "source": [
        "import pandas as pd\n",
        "import numpy as np\n",
        "import matplotlib.pyplot as plt\n",
        "%matplotlib inline\n",
        "%precision %.2f\n",
        "%tensorflow_version 2.x\n",
        "import re\n",
        "from sklearn.model_selection import train_test_split\n",
        "from tensorflow.python.pywrap_tensorflow_internal import *\n",
        "from keras.preprocessing.text import Tokenizer\n",
        "from keras.preprocessing.sequence import pad_sequences\n",
        "from tensorflow.keras.utils import to_categorical\n",
        "import tensorflow as tf \n",
        "import tensorflow_addons as tfa\n",
        "from keras.layers import Embedding\n",
        "\n",
        "from keras.layers import Dense, Input, GlobalMaxPooling1D\n",
        "from keras.layers import Conv1D, MaxPooling1D, Embedding\n",
        "from keras.models import Model\n",
        "from keras.layers import Input, Dense, Embedding, Conv2D, MaxPooling2D, Dropout,concatenate\n",
        "from keras.layers.core import Reshape, Flatten\n",
        "from keras.callbacks import EarlyStopping\n",
        "from tensorflow.keras.optimizers import SGD, RMSprop, Adagrad, Adadelta, Adam, Adamax, Nadam\n",
        "from keras.models import Model\n",
        "from keras import regularizers\n",
        "\n",
        "import gensim\n",
        "from gensim.models import Word2Vec\n",
        "from gensim.utils import simple_preprocess\n",
        "\n",
        "from gensim.models.keyedvectors import KeyedVectors"
      ]
    },
    {
      "cell_type": "code",
      "execution_count": 35,
      "metadata": {
        "colab": {
          "base_uri": "https://localhost:8080/"
        },
        "id": "gdnJXhTw12F1",
        "outputId": "33219256-515a-46b8-916f-958a04f66973"
      },
      "outputs": [
        {
          "name": "stdout",
          "output_type": "stream",
          "text": [
            "Drive already mounted at /content/drive/; to attempt to forcibly remount, call drive.mount(\"/content/drive/\", force_remount=True).\n",
            "/content/drive/My Drive/Colab Notebooks/DATA586/anomaly-dection-project\n"
          ]
        }
      ],
      "source": [
        "from google.colab import drive\n",
        "drive.mount('/content/drive/')\n",
        "%cd /content/drive/My Drive/Colab Notebooks/DATA586/anomaly-dection-project/"
      ]
    },
    {
      "cell_type": "code",
      "execution_count": 36,
      "metadata": {
        "id": "K8q9kKiA2IdG"
      },
      "outputs": [],
      "source": [
        "df = pd.read_csv('BGL_cleaned.csv')"
      ]
    },
    {
      "cell_type": "code",
      "execution_count": 38,
      "metadata": {
        "id": "BpNaQFFoQj8t"
      },
      "outputs": [],
      "source": [
        "anomaly = [0]*len(df['info'])\n",
        "normal = [0]*len(df['info'])\n",
        "\n",
        "for idx, i in enumerate(df['label']):\n",
        "    if i == 'Anomaly':\n",
        "      anomaly[idx] = 1\n",
        "    else:\n",
        "      normal[idx] = 1\n",
        "\n",
        "df['anomaly'] = anomaly\n",
        "df['normal'] = normal\n",
        "\n",
        "del(anomaly)\n",
        "del(normal)"
      ]
    },
    {
      "cell_type": "code",
      "execution_count": 39,
      "metadata": {
        "id": "NMUGqdbIQnR3"
      },
      "outputs": [],
      "source": [
        "#split 20% of train as validation set\n",
        "X = df['info']\n",
        "y = df.iloc[:,7:]\n",
        "\n",
        "X_train, X_validation, y_train, y_validation = train_test_split(X, y, test_size=0.2, random_state=123)"
      ]
    },
    {
      "cell_type": "code",
      "execution_count": 40,
      "metadata": {
        "colab": {
          "base_uri": "https://localhost:8080/"
        },
        "id": "WBitpFA9RG4Q",
        "outputId": "2b2fc6c7-459e-4c75-a30e-0071ff8967ed"
      },
      "outputs": [
        {
          "name": "stdout",
          "output_type": "stream",
          "text": [
            "/content/drive/MyDrive/Colab Notebooks/DATA586/anomaly-dection-project/data\n"
          ]
        }
      ],
      "source": [
        "%cd data/"
      ]
    },
    {
      "cell_type": "code",
      "execution_count": 41,
      "metadata": {
        "colab": {
          "base_uri": "https://localhost:8080/"
        },
        "id": "jEsePP-I2xAn",
        "outputId": "494731f0-2dea-478d-c41a-e2c539ba4922"
      },
      "outputs": [
        {
          "name": "stdout",
          "output_type": "stream",
          "text": [
            "Loaded 400000 word vectors.\n"
          ]
        }
      ],
      "source": [
        " word_vectors = dict()\n",
        "\n",
        "# load the whole embedding into memory\n",
        "f = open('glove.6B.300d.txt', encoding=\"utf8\")\n",
        "for line in f:\n",
        "    values = line.split()\n",
        "    word = values[0]\n",
        "    coefs = np.asarray(values[1:], dtype='float32')\n",
        "    word_vectors[word] = coefs\n",
        "f.close()\n",
        "print('Loaded %s word vectors.' % len(word_vectors))"
      ]
    },
    {
      "cell_type": "code",
      "execution_count": 42,
      "metadata": {
        "colab": {
          "base_uri": "https://localhost:8080/"
        },
        "id": "d8v39ZYg26uH",
        "outputId": "9474858b-c54b-4255-da3b-2cf3c3934440"
      },
      "outputs": [
        {
          "name": "stdout",
          "output_type": "stream",
          "text": [
            "Found 1082 unique tokens.\n"
          ]
        }
      ],
      "source": [
        "# Set Maximum number of words to be embedded\n",
        "NUM_WORDS = 20000\n",
        "\n",
        "# Define/Load Tokenize text function\n",
        "tokenizer = Tokenizer(num_words=NUM_WORDS,filters='!\"#$%&()*+,-./:;<=>?@[\\\\]^_`{|}~\\t\\n\\'')\n",
        "\n",
        "# Fit the function on the text\n",
        "tokenizer.fit_on_texts(X_train)\n",
        "\n",
        "# Count number of unique tokens\n",
        "word_index = tokenizer.word_index\n",
        "print('Found %s unique tokens.' % len(word_index))"
      ]
    },
    {
      "cell_type": "code",
      "execution_count": 43,
      "metadata": {
        "id": "Xa_TqLmO2_em"
      },
      "outputs": [],
      "source": [
        "# Convert train and val to sequence\n",
        "sequences_train = tokenizer.texts_to_sequences(X_train)\n",
        "sequences_validation = tokenizer.texts_to_sequences(X_validation)"
      ]
    },
    {
      "cell_type": "code",
      "execution_count": 44,
      "metadata": {
        "colab": {
          "base_uri": "https://localhost:8080/"
        },
        "id": "Xa53RLhG3Au3",
        "outputId": "5528799f-961e-4d33-ccdc-79dac99bb5af"
      },
      "outputs": [
        {
          "name": "stdout",
          "output_type": "stream",
          "text": [
            "Shape of X train and X validation tensor: (37984, 50) (9496, 50)\n",
            "Shape of label train and validation tensor: (37984, 2) (9496, 2)\n"
          ]
        }
      ],
      "source": [
        "# Limit size of train/val to 50 and pad the sequence\n",
        "X_train = pad_sequences(sequences_train,maxlen=50)\n",
        "X_validation = pad_sequences(sequences_validation,maxlen=X_train.shape[1])\n",
        "\n",
        "# Convert target to array\n",
        "y_train = np.asarray(y_train)\n",
        "y_validation = np.asarray(y_validation)\n",
        "\n",
        "# Printing shape\n",
        "print('Shape of X train and X validation tensor:', X_train.shape,X_validation.shape)\n",
        "print('Shape of label train and validation tensor:', y_train.shape,y_validation.shape)\n"
      ]
    },
    {
      "cell_type": "code",
      "execution_count": 45,
      "metadata": {
        "id": "d-U4LB5g3Cf8"
      },
      "outputs": [],
      "source": [
        "EMBEDDING_DIM=300\n",
        "vocabulary_size=min(len(word_index)+1,(NUM_WORDS))\n",
        "\n",
        "embedding_matrix = np.zeros((vocabulary_size, EMBEDDING_DIM))\n"
      ]
    },
    {
      "cell_type": "code",
      "execution_count": 46,
      "metadata": {
        "id": "vxURfvJH3DFv"
      },
      "outputs": [],
      "source": [
        "del(word_vectors)"
      ]
    },
    {
      "cell_type": "code",
      "execution_count": 47,
      "metadata": {
        "id": "MB6axt4y3ElV"
      },
      "outputs": [],
      "source": [
        "# Dfine Embedding function using the embedding_matrix\n",
        "embedding_layer = Embedding(vocabulary_size,\n",
        "                            EMBEDDING_DIM,\n",
        "                            weights=[embedding_matrix],\n",
        "                            trainable=True)\n",
        "del(embedding_matrix)"
      ]
    },
    {
      "cell_type": "code",
      "execution_count": 48,
      "metadata": {
        "id": "RcU8xnOs3G-R"
      },
      "outputs": [],
      "source": [
        "sequence_length = X_train.shape[1]\n",
        "filter_sizes = [3,4]\n",
        "num_filters = 100\n",
        "drop = 0.4\n",
        "\n",
        "inputs = Input(shape=(sequence_length,))\n",
        "embedding = embedding_layer(inputs)\n",
        "reshape = Reshape((sequence_length,EMBEDDING_DIM,1))(embedding)\n",
        "\n",
        "conv_0 = Conv2D(num_filters, (filter_sizes[0], EMBEDDING_DIM),activation='relu',kernel_regularizer=regularizers.l2(0.01))(reshape)\n",
        "conv_1 = Conv2D(num_filters, (filter_sizes[1], EMBEDDING_DIM),activation='relu',kernel_regularizer=regularizers.l2(0.01))(reshape)\n",
        "\n",
        "maxpool_0 = MaxPooling2D((sequence_length - filter_sizes[0] + 1, 1), strides=(1,1))(conv_0)\n",
        "maxpool_1 = MaxPooling2D((sequence_length - filter_sizes[1] + 1, 1), strides=(1,1))(conv_1)\n",
        "\n",
        "merged_tensor = concatenate([maxpool_0, maxpool_1], axis=1)\n",
        "flatten = Flatten()(merged_tensor)\n",
        "reshape = Reshape((2*num_filters,))(flatten)\n",
        "dropout = Dropout(drop)(flatten)\n",
        "conc = Dense(40)(dropout)\n",
        "output = Dense(units=2, activation='sigmoid',kernel_regularizer=regularizers.l2(0.01))(conc)\n",
        "\n",
        "# this creates a model that includes\n",
        "model = Model(inputs, output)"
      ]
    },
    {
      "cell_type": "code",
      "execution_count": 49,
      "metadata": {
        "colab": {
          "base_uri": "https://localhost:8080/"
        },
        "id": "cUZXaGtzR2cm",
        "outputId": "6f221ffa-1e8a-43c6-c5c0-e14e4de9d1b0"
      },
      "outputs": [
        {
          "name": "stdout",
          "output_type": "stream",
          "text": [
            "Epoch 1/10\n",
            "380/380 [==============================] - 93s 241ms/step - loss: 0.4031 - accuracy: 0.9272 - precision: 0.9294 - recall: 0.9270 - f1_score: 0.4846 - val_loss: 0.3043 - val_accuracy: 0.9271 - val_precision: 0.9271 - val_recall: 0.9271 - val_f1_score: 0.4811\n",
            "Epoch 2/10\n",
            "380/380 [==============================] - 89s 233ms/step - loss: 0.2864 - accuracy: 0.9294 - precision: 0.9294 - recall: 0.9294 - f1_score: 0.4817 - val_loss: 0.2835 - val_accuracy: 0.9271 - val_precision: 0.9271 - val_recall: 0.9271 - val_f1_score: 0.4811\n",
            "Epoch 3/10\n",
            "380/380 [==============================] - 88s 233ms/step - loss: 0.2742 - accuracy: 0.9294 - precision: 0.9294 - recall: 0.9294 - f1_score: 0.4817 - val_loss: 0.2764 - val_accuracy: 0.9271 - val_precision: 0.9271 - val_recall: 0.9271 - val_f1_score: 0.4811\n",
            "Epoch 4/10\n",
            "380/380 [==============================] - 98s 258ms/step - loss: 0.2689 - accuracy: 0.9294 - precision: 0.9294 - recall: 0.9294 - f1_score: 0.4817 - val_loss: 0.2731 - val_accuracy: 0.9271 - val_precision: 0.9271 - val_recall: 0.9271 - val_f1_score: 0.4811\n",
            "Epoch 5/10\n",
            "380/380 [==============================] - 90s 236ms/step - loss: 0.2659 - accuracy: 0.9294 - precision: 0.9294 - recall: 0.9294 - f1_score: 0.4817 - val_loss: 0.2703 - val_accuracy: 0.9271 - val_precision: 0.9271 - val_recall: 0.9271 - val_f1_score: 0.4811\n",
            "Epoch 6/10\n",
            "380/380 [==============================] - 89s 234ms/step - loss: 0.2639 - accuracy: 0.9294 - precision: 0.9294 - recall: 0.9294 - f1_score: 0.4817 - val_loss: 0.2686 - val_accuracy: 0.9271 - val_precision: 0.9271 - val_recall: 0.9271 - val_f1_score: 0.4811\n",
            "Epoch 7/10\n",
            "380/380 [==============================] - 89s 234ms/step - loss: 0.2624 - accuracy: 0.9294 - precision: 0.9294 - recall: 0.9294 - f1_score: 0.4817 - val_loss: 0.2678 - val_accuracy: 0.9271 - val_precision: 0.9271 - val_recall: 0.9271 - val_f1_score: 0.4811\n",
            "Epoch 8/10\n",
            "380/380 [==============================] - 89s 234ms/step - loss: 0.2614 - accuracy: 0.9294 - precision: 0.9294 - recall: 0.9294 - f1_score: 0.4817 - val_loss: 0.2664 - val_accuracy: 0.9271 - val_precision: 0.9271 - val_recall: 0.9271 - val_f1_score: 0.4811\n",
            "Epoch 9/10\n",
            "380/380 [==============================] - 89s 234ms/step - loss: 0.2605 - accuracy: 0.9294 - precision: 0.9294 - recall: 0.9294 - f1_score: 0.4817 - val_loss: 0.2657 - val_accuracy: 0.9271 - val_precision: 0.9271 - val_recall: 0.9271 - val_f1_score: 0.4811\n",
            "Epoch 10/10\n",
            "380/380 [==============================] - 89s 234ms/step - loss: 0.2599 - accuracy: 0.9294 - precision: 0.9294 - recall: 0.9294 - f1_score: 0.4817 - val_loss: 0.2651 - val_accuracy: 0.9271 - val_precision: 0.9271 - val_recall: 0.9271 - val_f1_score: 0.4811\n"
          ]
        }
      ],
      "source": [
        "model.compile(optimizer=Adam(0.001), \n",
        "              metrics=['accuracy', 'Precision', 'Recall',tfa.metrics.F1Score(num_classes=2,average='macro')], \n",
        "              loss = 'binary_crossentropy')\n",
        "history = model.fit(X_train, y_train, epochs=10, validation_data=(X_validation, y_validation), batch_size=100)"
      ]
    },
    {
      "cell_type": "code",
      "execution_count": 50,
      "metadata": {
        "colab": {
          "base_uri": "https://localhost:8080/"
        },
        "id": "w8fBZzLr3KWc",
        "outputId": "5dd3bca6-797c-4a93-9eb1-179577cbd328"
      },
      "outputs": [
        {
          "name": "stdout",
          "output_type": "stream",
          "text": [
            "297/297 - 4s - loss: 0.2651 - accuracy: 0.9271 - precision: 0.9271 - recall: 0.9271 - f1_score: 0.4811 - 4s/epoch - 13ms/step\n",
            "Test Loss: 0.2650999128818512\n",
            "Test Accuracy: 0.9271271824836731\n"
          ]
        }
      ],
      "source": [
        "test_loss, test_acc, test_preci, test_recall, test_f1 = model.evaluate(X_validation, y_validation, verbose = 2)\n",
        "\n",
        "print('Test Loss:', test_loss)\n",
        "print('Test Accuracy:', test_acc)"
      ]
    },
    {
      "cell_type": "code",
      "execution_count": 51,
      "metadata": {
        "id": "TziwOT_gCYWp"
      },
      "outputs": [],
      "source": [
        "def plot_graphs(history, metric):\n",
        "  plt.plot(history.history[metric])\n",
        "  plt.plot(history.history['val_'+metric], '')\n",
        "  plt.xlabel(\"Epochs\")\n",
        "  plt.ylabel(metric)\n",
        "  plt.legend([metric, 'val_'+metric])"
      ]
    },
    {
      "cell_type": "code",
      "execution_count": 52,
      "metadata": {
        "colab": {
          "base_uri": "https://localhost:8080/",
          "height": 518
        },
        "id": "ZJvV3CVACaMv",
        "outputId": "e0a25293-fb10-47f2-b3e6-b413125591cb"
      },
      "outputs": [
        {
          "data": {
            "text/plain": [
              "(0.00, 0.41)"
            ]
          },
          "execution_count": 52,
          "metadata": {},
          "output_type": "execute_result"
        },
        {
          "data": {
            "image/png": "[encoded data removed]",
            "text/plain": [
              "<Figure size 1152x576 with 2 Axes>"
            ]
          },
          "metadata": {
            "needs_background": "light"
          },
          "output_type": "display_data"
        }
      ],
      "source": [
        "plt.figure(figsize=(16, 8))\n",
        "plt.subplot(1, 2, 1)\n",
        "plot_graphs(history, 'accuracy')\n",
        "plt.ylim(None, 1)\n",
        "plt.subplot(1, 2, 2)\n",
        "plot_graphs(history, 'loss')\n",
        "plt.ylim(0, None)"
      ]
    },
    {
      "cell_type": "code",
      "execution_count": 52,
      "metadata": {
        "id": "VplJ1YosCf0G"
      },
      "outputs": [],
      "source": []
    }
  ],
  "metadata": {
    "accelerator": "GPU",
    "colab": {
      "collapsed_sections": [],
      "name": "glove_CNN.ipynb",
      "provenance": []
    },
    "kernelspec": {
      "display_name": "Python 3",
      "language": "python",
      "name": "python3"
    },
    "language_info": {
      "codemirror_mode": {
        "name": "ipython",
        "version": 3
      },
      "file_extension": ".py",
      "mimetype": "text/x-python",
      "name": "python",
      "nbconvert_exporter": "python",
      "pygments_lexer": "ipython3",
      "version": "3.6.9"
    }
  },
  "nbformat": 4,
  "nbformat_minor": 0
}
