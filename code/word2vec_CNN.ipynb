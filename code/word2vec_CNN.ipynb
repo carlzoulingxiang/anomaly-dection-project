{
  "nbformat": 4,
  "nbformat_minor": 0,
  "metadata": {
    "accelerator": "GPU",
    "colab": {
      "name": "word2vec_CNN.ipynb",
      "provenance": [],
      "collapsed_sections": []
    },
    "kernelspec": {
      "display_name": "Python 3",
      "language": "python",
      "name": "python3"
    },
    "language_info": {
      "codemirror_mode": {
        "name": "ipython",
        "version": 3
      },
      "file_extension": ".py",
      "mimetype": "text/x-python",
      "name": "python",
      "nbconvert_exporter": "python",
      "pygments_lexer": "ipython3",
      "version": "3.6.9"
    }
  },
  "cells": [
    {
      "cell_type": "code",
      "source": [
        "!pip install tensorflow_addons"
      ],
      "metadata": {
        "colab": {
          "base_uri": "https://localhost:8080/"
        },
        "id": "lBzs2W8qsJxP",
        "outputId": "e17af9aa-f0d8-464a-948d-2253856269bf"
      },
      "execution_count": 3,
      "outputs": [
        {
          "output_type": "stream",
          "name": "stdout",
          "text": [
            "Requirement already satisfied: tensorflow_addons in /usr/local/lib/python3.7/dist-packages (0.16.1)\n",
            "Requirement already satisfied: typeguard>=2.7 in /usr/local/lib/python3.7/dist-packages (from tensorflow_addons) (2.7.1)\n"
          ]
        }
      ]
    },
    {
      "cell_type": "code",
      "metadata": {
        "id": "nwnQZPpakFCT"
      },
      "source": [
        "import pandas as pd\n",
        "import numpy as np\n",
        "import matplotlib.pyplot as plt\n",
        "%matplotlib inline\n",
        "%precision %.2f\n",
        "%tensorflow_version 2.x\n",
        "import re\n",
        "import tensorflow_addons as tfa\n",
        "from sklearn.model_selection import train_test_split\n",
        "from tensorflow.python.pywrap_tensorflow_internal import *\n",
        "from keras.preprocessing.text import Tokenizer\n",
        "from keras.preprocessing.sequence import pad_sequences\n",
        "from tensorflow.keras.utils import to_categorical\n",
        "\n",
        "from keras.layers import Embedding\n",
        "\n",
        "from keras.layers import Dense, Input, GlobalMaxPooling1D\n",
        "from keras.layers import Conv1D, MaxPooling1D, Embedding\n",
        "from keras.models import Model\n",
        "from keras.layers import Input, Dense, Embedding, Conv2D, MaxPooling2D, Dropout,concatenate\n",
        "from keras.layers.core import Reshape, Flatten\n",
        "from keras.callbacks import EarlyStopping\n",
        "from tensorflow.keras.optimizers import SGD, RMSprop, Adagrad, Adadelta, Adam, Adamax, Nadam\n",
        "from keras.models import Model\n",
        "from keras import regularizers\n",
        "\n",
        "import gensim\n",
        "from gensim.models import Word2Vec\n",
        "from gensim.utils import simple_preprocess\n",
        "\n",
        "from gensim.models.keyedvectors import KeyedVectors"
      ],
      "execution_count": 22,
      "outputs": []
    },
    {
      "cell_type": "code",
      "metadata": {
        "colab": {
          "base_uri": "https://localhost:8080/"
        },
        "id": "js6kfBEUnpD3",
        "outputId": "28ad4f84-494c-4fe5-aec1-dc71fc043098"
      },
      "source": [
        "from google.colab import drive\n",
        "drive.mount('/content/drive')"
      ],
      "execution_count": 23,
      "outputs": [
        {
          "output_type": "stream",
          "name": "stdout",
          "text": [
            "Drive already mounted at /content/drive; to attempt to forcibly remount, call drive.mount(\"/content/drive\", force_remount=True).\n"
          ]
        }
      ]
    },
    {
      "cell_type": "code",
      "metadata": {
        "id": "RkKSS2U9kFCT"
      },
      "source": [
        "bglDF = pd.read_csv('/content/drive/MyDrive/UBC-MDS/data586/data/processed_data/BGL_cleaned.csv')"
      ],
      "execution_count": 24,
      "outputs": []
    },
    {
      "cell_type": "code",
      "source": [
        "anomaly = [0]*len(bglDF['info'])\n",
        "normal = [0]*len(bglDF['info'])\n",
        "\n",
        "for idx, i in enumerate(bglDF['label']):\n",
        "    if i == 'Anomaly':\n",
        "      anomaly[idx] = 1\n",
        "    else:\n",
        "      normal[idx] = 1\n",
        "\n",
        "bglDF['anomaly'] = anomaly\n",
        "bglDF['normal'] = normal\n",
        "\n",
        "del(anomaly)\n",
        "del(normal)"
      ],
      "metadata": {
        "id": "eqQ6Tqjn62UB"
      },
      "execution_count": 25,
      "outputs": []
    },
    {
      "cell_type": "code",
      "metadata": {
        "id": "Rvnj8zlykFCU"
      },
      "source": [
        "#split 20% of train as validation set\n",
        "X = bglDF['info']\n",
        "y = bglDF.iloc[:,7:]\n",
        "\n",
        "X_train, X_validation, y_train, y_validation = train_test_split(X, y, test_size=0.2, random_state=123)"
      ],
      "execution_count": 27,
      "outputs": []
    },
    {
      "cell_type": "code",
      "source": [
        "del(bglDF)"
      ],
      "metadata": {
        "id": "Jx_PqQnp9Gkf"
      },
      "execution_count": 28,
      "outputs": []
    },
    {
      "cell_type": "markdown",
      "metadata": {
        "id": "OsAsn0cFkFCV"
      },
      "source": [
        "Word Embedding\n",
        "---\n",
        "Use a pre-train word2vec model from https://drive.google.com/file/d/0B7XkCwpI5KDYNlNUTTlSS21pQmM/edit"
      ]
    },
    {
      "cell_type": "code",
      "metadata": {
        "id": "rIYrI2CRkFCW"
      },
      "source": [
        "word_vectors = KeyedVectors.load_word2vec_format(\"/content/drive/MyDrive/UBC-MDS/data586/data/reference_data/GoogleNews-vectors-negative300.bin.gz\",binary=True)"
      ],
      "execution_count": 29,
      "outputs": []
    },
    {
      "cell_type": "code",
      "metadata": {
        "colab": {
          "base_uri": "https://localhost:8080/"
        },
        "id": "-qnY3VuEkFCW",
        "outputId": "5e7fdb6d-161c-46c4-cf43-c4890c4c62a8"
      },
      "source": [
        "# Set Maximum number of words to be embedded\n",
        "NUM_WORDS = 20000\n",
        "\n",
        "# Define/Load Tokenize text function\n",
        "tokenizer = Tokenizer(num_words=NUM_WORDS,filters='!\"#$%&()*+,-./:;<=>?@[\\\\]^_`{|}~\\t\\n\\'')\n",
        "\n",
        "# Fit the function on the text\n",
        "tokenizer.fit_on_texts(X_train)\n",
        "\n",
        "# Count number of unique tokens\n",
        "word_index = tokenizer.word_index\n",
        "print('Found %s unique tokens.' % len(word_index))"
      ],
      "execution_count": 30,
      "outputs": [
        {
          "output_type": "stream",
          "name": "stdout",
          "text": [
            "Found 1913 unique tokens.\n"
          ]
        }
      ]
    },
    {
      "cell_type": "code",
      "metadata": {
        "id": "BLzC37AnkFCW"
      },
      "source": [
        "# Convert train and val to sequence\n",
        "sequences_train = tokenizer.texts_to_sequences(X_train)\n",
        "sequences_validation = tokenizer.texts_to_sequences(X_validation)"
      ],
      "execution_count": 31,
      "outputs": []
    },
    {
      "cell_type": "code",
      "metadata": {
        "colab": {
          "base_uri": "https://localhost:8080/"
        },
        "id": "7tW77FEZkFCW",
        "outputId": "e3d6e659-d5cb-43bb-dbed-d2405cb4f880"
      },
      "source": [
        "# Limit size of train/val to 50 and pad the sequence\n",
        "X_train = pad_sequences(sequences_train,maxlen=50)\n",
        "X_validation = pad_sequences(sequences_validation,maxlen=X_train.shape[1])\n",
        "\n",
        "# Convert target to array\n",
        "y_train = np.asarray(y_train)\n",
        "y_validation = np.asarray(y_validation)\n",
        "\n",
        "# Printing shape\n",
        "print('Shape of X train and X validation tensor:', X_train.shape,X_validation.shape)\n",
        "print('Shape of label train and validation tensor:', y_train.shape,y_validation.shape)\n"
      ],
      "execution_count": 32,
      "outputs": [
        {
          "output_type": "stream",
          "name": "stdout",
          "text": [
            "Shape of X train and X validation tensor: (379836, 50) (94960, 50)\n",
            "Shape of label train and validation tensor: (379836, 2) (94960, 2)\n"
          ]
        }
      ]
    },
    {
      "cell_type": "code",
      "metadata": {
        "id": "79_jLsZTkFCb"
      },
      "source": [
        "EMBEDDING_DIM=300\n",
        "vocabulary_size=min(len(word_index)+1,(NUM_WORDS))\n",
        "\n",
        "embedding_matrix = np.zeros((vocabulary_size, EMBEDDING_DIM))\n",
        "\n",
        "\n",
        "for word, i in word_index.items():\n",
        "    if i>=NUM_WORDS:\n",
        "        continue\n",
        "    try:\n",
        "        embedding_vector = word_vectors[word]\n",
        "        embedding_matrix[i] = embedding_vector\n",
        "    except KeyError:\n",
        "        vec = np.zeros(EMBEDDING_DIM)\n",
        "        embedding_matrix[i]=vec"
      ],
      "execution_count": 33,
      "outputs": []
    },
    {
      "cell_type": "code",
      "metadata": {
        "id": "Eaw3xKUxkFCb"
      },
      "source": [
        "del(word_vectors)"
      ],
      "execution_count": 34,
      "outputs": []
    },
    {
      "cell_type": "code",
      "metadata": {
        "id": "A35coc41kFCb"
      },
      "source": [
        "# Dfine Embedding function using the embedding_matrix\n",
        "embedding_layer = Embedding(vocabulary_size,\n",
        "                            EMBEDDING_DIM,\n",
        "                            weights=[embedding_matrix],\n",
        "                            trainable=True)"
      ],
      "execution_count": 35,
      "outputs": []
    },
    {
      "cell_type": "code",
      "metadata": {
        "id": "qiTmhDFIkFCb"
      },
      "source": [
        "del(embedding_matrix)"
      ],
      "execution_count": 36,
      "outputs": []
    },
    {
      "cell_type": "code",
      "metadata": {
        "id": "cNKgsqjAkFCb"
      },
      "source": [
        "sequence_length = X_train.shape[1]\n",
        "filter_sizes = [2,3]\n",
        "num_filters = 10 #100\n",
        "drop = 0.4\n",
        "\n",
        "inputs = Input(shape=(sequence_length,))\n",
        "embedding = embedding_layer(inputs)\n",
        "reshape = Reshape((sequence_length,EMBEDDING_DIM,1))(embedding)\n",
        "\n",
        "conv_0 = Conv2D(num_filters, (filter_sizes[0], EMBEDDING_DIM),activation='relu',kernel_regularizer=regularizers.l2(0.01))(reshape)\n",
        "conv_1 = Conv2D(num_filters, (filter_sizes[1], EMBEDDING_DIM),activation='relu',kernel_regularizer=regularizers.l2(0.01))(reshape)\n",
        "\n",
        "maxpool_0 = MaxPooling2D((sequence_length - filter_sizes[0] + 1, 1), strides=(1,1))(conv_0)\n",
        "maxpool_1 = MaxPooling2D((sequence_length - filter_sizes[1] + 1, 1), strides=(1,1))(conv_1)\n",
        "\n",
        "merged_tensor = concatenate([maxpool_0, maxpool_1], axis=1)\n",
        "#merged_tensor = concatenate([maxpool_0], axis=1)\n",
        "flatten = Flatten()(merged_tensor)\n",
        "reshape = Reshape((2*num_filters,))(flatten)\n",
        "dropout = Dropout(drop)(flatten)\n",
        "conc = Dense(20)(dropout) #40\n",
        "output = Dense(units=2, activation='sigmoid',kernel_regularizer=regularizers.l2(0.01))(conc)\n",
        "\n",
        "# this creates a model that includes\n",
        "model = Model(inputs, output)"
      ],
      "execution_count": 37,
      "outputs": []
    },
    {
      "cell_type": "code",
      "source": [
        "model.compile(optimizer=Adam(1e-2), \n",
        "              metrics=['accuracy', 'Precision', 'Recall',tfa.metrics.F1Score(num_classes=2,average='macro')], \n",
        "              loss = 'binary_crossentropy')\n",
        "callbacks = [EarlyStopping(monitor='val_accuracy')]\n",
        "hist_adam = model.fit(X_train, \n",
        "                    y_train, \n",
        "                    epochs=5, \n",
        "                    validation_data=(X_validation, y_validation), \n",
        "                    batch_size=400)\n",
        "                    #callbacks=callbacks)"
      ],
      "metadata": {
        "colab": {
          "base_uri": "https://localhost:8080/"
        },
        "id": "brP_WMyHFdUW",
        "outputId": "f4bbaaea-b222-4000-dc98-de46df7d029f"
      },
      "execution_count": 40,
      "outputs": [
        {
          "output_type": "stream",
          "name": "stdout",
          "text": [
            "Epoch 1/5\n",
            "950/950 [==============================] - 333s 344ms/step - loss: 0.0214 - accuracy: 0.9995 - precision: 0.9995 - recall: 0.9995 - f1_score: 0.9981 - val_loss: 0.0069 - val_accuracy: 0.9999 - val_precision: 0.9999 - val_recall: 0.9999 - val_f1_score: 0.9998\n",
            "Epoch 2/5\n",
            "950/950 [==============================] - 320s 337ms/step - loss: 0.0127 - accuracy: 0.9995 - precision: 0.9995 - recall: 0.9995 - f1_score: 0.9981 - val_loss: 0.0030 - val_accuracy: 1.0000 - val_precision: 1.0000 - val_recall: 1.0000 - val_f1_score: 0.9998\n",
            "Epoch 3/5\n",
            "950/950 [==============================] - 346s 364ms/step - loss: 0.0201 - accuracy: 0.9993 - precision: 0.9993 - recall: 0.9993 - f1_score: 0.9975 - val_loss: 0.0032 - val_accuracy: 0.9999 - val_precision: 0.9999 - val_recall: 0.9999 - val_f1_score: 0.9996\n",
            "Epoch 4/5\n",
            "950/950 [==============================] - 319s 336ms/step - loss: 0.0128 - accuracy: 0.9990 - precision: 0.9990 - recall: 0.9990 - f1_score: 0.9962 - val_loss: 0.0266 - val_accuracy: 0.9999 - val_precision: 0.9999 - val_recall: 0.9999 - val_f1_score: 0.9996\n",
            "Epoch 5/5\n",
            "950/950 [==============================] - 317s 334ms/step - loss: 0.0156 - accuracy: 0.9991 - precision: 0.9990 - recall: 0.9991 - f1_score: 0.9965 - val_loss: 0.0037 - val_accuracy: 0.9999 - val_precision: 0.9999 - val_recall: 0.9999 - val_f1_score: 0.9998\n"
          ]
        }
      ]
    },
    {
      "cell_type": "code",
      "source": [
        "test_loss, test_acc, test_precision, test_recall, test_f1 = model.evaluate(X_validation, y_validation, verbose=2 )\n",
        "\n",
        "print('Test Loss:', test_loss)\n",
        "print('Test Accuracy:', test_acc)\n",
        "print('Test Precision:', test_precision)\n",
        "print('Test Recall:', test_recall)\n",
        "print('Test F1-Score:', test_f1)"
      ],
      "metadata": {
        "colab": {
          "base_uri": "https://localhost:8080/"
        },
        "id": "CXBQ7EfUPQKg",
        "outputId": "f7606f00-124e-434e-adce-71de0a58dac1"
      },
      "execution_count": 41,
      "outputs": [
        {
          "output_type": "stream",
          "name": "stdout",
          "text": [
            "2968/2968 - 16s - loss: 0.0037 - accuracy: 0.9999 - precision: 0.9999 - recall: 0.9999 - f1_score: 0.9998 - 16s/epoch - 5ms/step\n",
            "Test Loss: 0.003696259343996644\n",
            "Test Accuracy: 0.9999473690986633\n",
            "Test Precision: 0.9999473690986633\n",
            "Test Recall: 0.9999473690986633\n",
            "Test F1-Score: 0.9998059272766113\n"
          ]
        }
      ]
    },
    {
      "cell_type": "code",
      "source": [
        "def plot_graphs(history, metric):\n",
        "  plt.plot(history.history[metric])\n",
        "  plt.plot(history.history['val_'+metric], '')\n",
        "  plt.xlabel(\"Epochs\")\n",
        "  plt.ylabel(metric)\n",
        "  plt.legend([metric, 'val_'+metric])\n",
        "\n",
        "plt.figure(figsize=(16, 8))\n",
        "plt.subplot(1, 2, 1)\n",
        "plot_graphs(hist_adam, 'accuracy')\n",
        "plt.ylim(None, 1)\n",
        "plt.subplot(1, 2, 2)\n",
        "plot_graphs(hist_adam, 'loss')\n",
        "plt.ylim(0, None)"
      ],
      "metadata": {
        "colab": {
          "base_uri": "https://localhost:8080/",
          "height": 518
        },
        "id": "urAAhxSRO6-h",
        "outputId": "1b5ce331-87a8-4b36-cc4c-3970a6a983dd"
      },
      "execution_count": 42,
      "outputs": [
        {
          "output_type": "execute_result",
          "data": {
            "text/plain": [
              "(0.00, 0.03)"
            ]
          },
          "metadata": {},
          "execution_count": 42
        },
        {
          "output_type": "display_data",
          "data": {
            "text/plain": [
              "<Figure size 1152x576 with 2 Axes>"
            ],
            "image/png": "[encoded data removed]"
          },
          "metadata": {
            "needs_background": "light"
          }
        }
      ]
    }
  ]
}