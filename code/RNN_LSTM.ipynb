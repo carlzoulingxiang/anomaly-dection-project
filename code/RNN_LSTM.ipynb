{
  "cells": [
    {
      "cell_type": "code",
      "execution_count": 43,
      "metadata": {
        "colab": {
          "base_uri": "https://localhost:8080/"
        },
        "id": "FSSi3l_wAIXz",
        "outputId": "3d558c93-bb6d-4381-85c2-d49b647293f4"
      },
      "outputs": [
        {
          "name": "stdout",
          "output_type": "stream",
          "text": [
            "Requirement already satisfied: tensorflow_addons in /usr/local/lib/python3.7/dist-packages (0.16.1)\n",
            "Requirement already satisfied: typeguard>=2.7 in /usr/local/lib/python3.7/dist-packages (from tensorflow_addons) (2.7.1)\n"
          ]
        }
      ],
      "source": [
        "!pip install tensorflow_addons"
      ]
    },
    {
      "cell_type": "code",
      "execution_count": 44,
      "metadata": {
        "id": "HA3k1n6iZQE3"
      },
      "outputs": [],
      "source": [
        "import pandas as pd\n",
        "import numpy as np\n",
        "import matplotlib.pyplot as plt\n",
        "%matplotlib inline\n",
        "import keras\n",
        "import re\n",
        "from sklearn import metrics\n",
        "import tensorflow as tf \n",
        "import tensorflow_addons as tfa\n",
        "from sklearn.model_selection import train_test_split\n",
        "\n",
        "from keras.preprocessing.text import Tokenizer\n",
        "from keras.preprocessing.sequence import pad_sequences\n",
        "from tensorflow.keras.utils import to_categorical\n",
        "\n",
        "\n",
        "from keras.models import Sequential\n",
        "from keras.layers import Dense\n",
        "from keras.layers import LSTM\n",
        "from keras.layers.embeddings import Embedding\n",
        "from keras.preprocessing import sequence\n",
        "from keras.models import Sequential\n",
        "from keras.layers import Dense, Dropout, LSTM, Embedding\n",
        "from keras.callbacks import EarlyStopping\n",
        "from tensorflow.keras.optimizers import SGD, RMSprop, Adagrad, Adadelta, Adam, Adamax, Nadam"
      ]
    },
    {
      "cell_type": "code",
      "execution_count": 45,
      "metadata": {
        "colab": {
          "base_uri": "https://localhost:8080/"
        },
        "id": "vxPDPg8UzkFg",
        "outputId": "081fa338-d7d0-4053-94c2-b51ae44a2f0e"
      },
      "outputs": [
        {
          "name": "stdout",
          "output_type": "stream",
          "text": [
            "Drive already mounted at /content/drive/; to attempt to forcibly remount, call drive.mount(\"/content/drive/\", force_remount=True).\n",
            "/content/drive/My Drive/Colab Notebooks/DATA586/anomaly-dection-project\n"
          ]
        }
      ],
      "source": [
        "from google.colab import drive\n",
        "drive.mount('/content/drive/')\n",
        "%cd /content/drive/My Drive/Colab Notebooks/DATA586/anomaly-dection-project/"
      ]
    },
    {
      "cell_type": "code",
      "execution_count": 46,
      "metadata": {
        "id": "O4xG3k8IZ27U"
      },
      "outputs": [],
      "source": [
        "df = pd.read_csv('BGL_cleaned.csv')"
      ]
    },
    {
      "cell_type": "code",
      "execution_count": 48,
      "metadata": {
        "id": "4ugyGo7I-3CE"
      },
      "outputs": [],
      "source": [
        "anomaly = [0]*len(df['info'])\n",
        "normal = [0]*len(df['info'])\n",
        "\n",
        "for idx, i in enumerate(df['label']):\n",
        "    if i == 'Anomaly':\n",
        "      anomaly[idx] = 1\n",
        "    else:\n",
        "      normal[idx] = 1\n",
        "\n",
        "df['anomaly'] = anomaly\n",
        "df['normal'] = normal\n",
        "\n",
        "del(anomaly)\n",
        "del(normal)"
      ]
    },
    {
      "cell_type": "code",
      "execution_count": 48,
      "metadata": {
        "id": "M5EQ9jHmQ0Wl"
      },
      "outputs": [],
      "source": []
    },
    {
      "cell_type": "code",
      "execution_count": 49,
      "metadata": {
        "id": "QlL-x5-gapNT"
      },
      "outputs": [],
      "source": [
        "#split 20% of train as validation set\n",
        "X = df['info']\n",
        "y = df.iloc[:,7:]\n",
        "\n",
        "X_train, X_validation, y_train, y_validation = train_test_split(X, y, test_size=0.2, random_state=123)"
      ]
    },
    {
      "cell_type": "code",
      "execution_count": 50,
      "metadata": {
        "id": "UojYXUN3bCWL"
      },
      "outputs": [],
      "source": [
        "NUM_WORDS = 5000\n",
        "tokenizer = Tokenizer(num_words=NUM_WORDS,filters='!\"#$%&()*+,-./:;<=>?@[\\\\]^_`{|}~\\t\\n\\'',lower=True)\n",
        "tokenizer.fit_on_texts(X_train)\n",
        "word_index = tokenizer.word_index\n",
        "      "
      ]
    },
    {
      "cell_type": "code",
      "execution_count": 51,
      "metadata": {
        "id": "SLfpas8nbIE9"
      },
      "outputs": [],
      "source": [
        "sequences_train = tokenizer.texts_to_sequences(X_train)\n",
        "sequences_validation = tokenizer.texts_to_sequences(X_validation)"
      ]
    },
    {
      "cell_type": "code",
      "execution_count": 52,
      "metadata": {
        "id": "3PFhDyV3bPNc"
      },
      "outputs": [],
      "source": [
        "X_train = pad_sequences(sequences_train,maxlen=50)\n",
        "X_validation = pad_sequences(sequences_validation,maxlen=X_train.shape[1])\n",
        "\n",
        "\n",
        "y_train = np.asarray(y_train)\n",
        "y_validation = np.asarray(y_validation)"
      ]
    },
    {
      "cell_type": "code",
      "execution_count": 53,
      "metadata": {
        "id": "HgVWwq4xbTz1"
      },
      "outputs": [],
      "source": [
        "embedding_vecor_length = 300\n",
        "model = Sequential()\n",
        "model.add(Embedding(5000, embedding_vecor_length, input_length=X_train.shape[1]))\n",
        "model.add(LSTM(256))\n",
        "model.add(Dense(64, activation='relu'))\n",
        "model.add(Dense(2, activation='sigmoid'))"
      ]
    },
    {
      "cell_type": "code",
      "execution_count": 54,
      "metadata": {
        "colab": {
          "base_uri": "https://localhost:8080/"
        },
        "id": "F-tyMjp569P5",
        "outputId": "204cea9b-23b3-412c-c82c-de1a863faab1"
      },
      "outputs": [
        {
          "name": "stdout",
          "output_type": "stream",
          "text": [
            "Epoch 1/10\n",
            "190/190 [==============================] - 182s 947ms/step - loss: 0.0219 - accuracy: 0.9933 - precision: 0.9899 - recall: 0.9943 - f1_score: 0.9744 - val_loss: 0.0014 - val_accuracy: 0.9996 - val_precision: 0.9996 - val_recall: 0.9996 - val_f1_score: 0.9984\n",
            "Epoch 2/10\n",
            "190/190 [==============================] - 178s 939ms/step - loss: 0.0016 - accuracy: 0.9995 - precision: 0.9996 - recall: 0.9994 - f1_score: 0.9982 - val_loss: 6.3061e-04 - val_accuracy: 0.9998 - val_precision: 1.0000 - val_recall: 0.9996 - val_f1_score: 0.9992\n",
            "Epoch 3/10\n",
            "190/190 [==============================] - 185s 975ms/step - loss: 3.0960e-04 - accuracy: 0.9999 - precision: 0.9999 - recall: 0.9999 - f1_score: 0.9998 - val_loss: 2.0379e-05 - val_accuracy: 1.0000 - val_precision: 1.0000 - val_recall: 1.0000 - val_f1_score: 1.0000\n",
            "Epoch 4/10\n",
            "190/190 [==============================] - 173s 909ms/step - loss: 9.5356e-06 - accuracy: 1.0000 - precision: 1.0000 - recall: 1.0000 - f1_score: 1.0000 - val_loss: 3.5638e-06 - val_accuracy: 1.0000 - val_precision: 1.0000 - val_recall: 1.0000 - val_f1_score: 1.0000\n",
            "Epoch 5/10\n",
            "190/190 [==============================] - 177s 934ms/step - loss: 2.6547e-06 - accuracy: 1.0000 - precision: 1.0000 - recall: 1.0000 - f1_score: 1.0000 - val_loss: 1.5958e-06 - val_accuracy: 1.0000 - val_precision: 1.0000 - val_recall: 1.0000 - val_f1_score: 1.0000\n",
            "Epoch 6/10\n",
            "190/190 [==============================] - 195s 1s/step - loss: 1.4136e-06 - accuracy: 1.0000 - precision: 1.0000 - recall: 1.0000 - f1_score: 1.0000 - val_loss: 1.0395e-06 - val_accuracy: 1.0000 - val_precision: 1.0000 - val_recall: 1.0000 - val_f1_score: 1.0000\n",
            "Epoch 7/10\n",
            "190/190 [==============================] - 194s 1s/step - loss: 9.1740e-07 - accuracy: 1.0000 - precision: 1.0000 - recall: 1.0000 - f1_score: 1.0000 - val_loss: 7.1707e-07 - val_accuracy: 1.0000 - val_precision: 1.0000 - val_recall: 1.0000 - val_f1_score: 1.0000\n",
            "Epoch 8/10\n",
            "190/190 [==============================] - 170s 895ms/step - loss: 6.5066e-07 - accuracy: 1.0000 - precision: 1.0000 - recall: 1.0000 - f1_score: 1.0000 - val_loss: 5.4162e-07 - val_accuracy: 1.0000 - val_precision: 1.0000 - val_recall: 1.0000 - val_f1_score: 1.0000\n",
            "Epoch 9/10\n",
            "190/190 [==============================] - 178s 938ms/step - loss: 4.8749e-07 - accuracy: 1.0000 - precision: 1.0000 - recall: 1.0000 - f1_score: 1.0000 - val_loss: 4.2032e-07 - val_accuracy: 1.0000 - val_precision: 1.0000 - val_recall: 1.0000 - val_f1_score: 1.0000\n",
            "Epoch 10/10\n",
            "190/190 [==============================] - 175s 922ms/step - loss: 3.7779e-07 - accuracy: 1.0000 - precision: 1.0000 - recall: 1.0000 - f1_score: 1.0000 - val_loss: 3.3722e-07 - val_accuracy: 1.0000 - val_precision: 1.0000 - val_recall: 1.0000 - val_f1_score: 1.0000\n"
          ]
        }
      ],
      "source": [
        "model.compile(optimizer=Adam(0.01), \n",
        "              metrics=['accuracy', 'Precision', 'Recall',tfa.metrics.F1Score(num_classes=2,average='macro')], \n",
        "              loss = 'binary_crossentropy')\n",
        "history = model.fit(X_train, y_train, epochs=10, validation_data=(X_validation, y_validation), batch_size=200)"
      ]
    },
    {
      "cell_type": "code",
      "execution_count": 55,
      "metadata": {
        "colab": {
          "base_uri": "https://localhost:8080/"
        },
        "id": "NbibYCy4QT-X",
        "outputId": "3198c9ce-c8dc-49ba-8bfc-97bc0ada3d20"
      },
      "outputs": [
        {
          "name": "stdout",
          "output_type": "stream",
          "text": [
            "297/297 - 20s - loss: 3.3722e-07 - accuracy: 1.0000 - precision: 1.0000 - recall: 1.0000 - f1_score: 1.0000 - 20s/epoch - 67ms/step\n",
            "Test Loss: 3.3721880754455924e-07\n",
            "Test Accuracy: 1.0\n"
          ]
        }
      ],
      "source": [
        "test_loss, test_acc, test_preci, test_recall, test_f1 = model.evaluate(X_validation, y_validation, verbose = 2)\n",
        "\n",
        "print('Test Loss:', test_loss)\n",
        "print('Test Accuracy:', test_acc)"
      ]
    },
    {
      "cell_type": "code",
      "execution_count": 56,
      "metadata": {
        "id": "BCK0-F7iMSld"
      },
      "outputs": [],
      "source": [
        "def plot_graphs(history, metric):\n",
        "  plt.plot(history.history[metric])\n",
        "  plt.plot(history.history['val_'+metric], '')\n",
        "  plt.xlabel(\"Epochs\")\n",
        "  plt.ylabel(metric)\n",
        "  plt.legend([metric, 'val_'+metric])"
      ]
    },
    {
      "cell_type": "code",
      "execution_count": 57,
      "metadata": {
        "colab": {
          "base_uri": "https://localhost:8080/",
          "height": 518
        },
        "id": "n3Mp77MQMgzg",
        "outputId": "21d3b528-38e3-4e8c-ef71-d4b8472961f1"
      },
      "outputs": [
        {
          "data": {
            "text/plain": [
              "(0.0, 0.02297383341538506)"
            ]
          },
          "execution_count": 57,
          "metadata": {},
          "output_type": "execute_result"
        },
        {
          "data": {
            "image/png": "[encoded data removed]",
            "text/plain": [
              "<Figure size 1152x576 with 2 Axes>"
            ]
          },
          "metadata": {
            "needs_background": "light"
          },
          "output_type": "display_data"
        }
      ],
      "source": [
        "plt.figure(figsize=(16, 8))\n",
        "plt.subplot(1, 2, 1)\n",
        "plot_graphs(history, 'accuracy')\n",
        "plt.ylim(None, 1)\n",
        "plt.subplot(1, 2, 2)\n",
        "plot_graphs(history, 'loss')\n",
        "plt.ylim(0, None)"
      ]
    },
    {
      "cell_type": "code",
      "execution_count": 57,
      "metadata": {
        "id": "keOh200DMhI1"
      },
      "outputs": [],
      "source": []
    }
  ],
  "metadata": {
    "accelerator": "GPU",
    "colab": {
      "collapsed_sections": [],
      "name": "RNN-LSTM.ipynb",
      "provenance": []
    },
    "kernelspec": {
      "display_name": "Python 3",
      "language": "python",
      "name": "python3"
    },
    "language_info": {
      "codemirror_mode": {
        "name": "ipython",
        "version": 3
      },
      "file_extension": ".py",
      "mimetype": "text/x-python",
      "name": "python",
      "nbconvert_exporter": "python",
      "pygments_lexer": "ipython3",
      "version": "3.6.9"
    }
  },
  "nbformat": 4,
  "nbformat_minor": 0
}
